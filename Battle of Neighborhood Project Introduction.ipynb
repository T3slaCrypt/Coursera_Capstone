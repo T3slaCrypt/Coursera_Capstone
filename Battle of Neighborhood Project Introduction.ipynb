{
    "nbformat_minor": 1, 
    "cells": [
        {
            "source": "# Battle of Neighborhoods", 
            "cell_type": "markdown", 
            "metadata": {
                "collapsed": true
            }
        }, 
        {
            "source": "## Baltimore Maryland", 
            "cell_type": "markdown", 
            "metadata": {}
        }, 
        {
            "source": "![](https://elboqueronviajero.com/wp-content/uploads/2018/05/00-Vistas-de-Baltimore-una-ciudad-con-mucho-que-ver.jpg)", 
            "cell_type": "markdown", 
            "metadata": {}
        }, 
        {
            "source": "## Project Description", 
            "cell_type": "markdown", 
            "metadata": {}
        }, 
        {
            "source": "A multinational company wants to open several new restaurants in the city of Baltimore, for that they need to do an analysis of the city, see areas that people frequent more and what type of food they like, the goal of the project is to segment the different areas of the city for the type of food they like. And so we can open a new restaurant with the food that is preferred or most in demand in the area.", 
            "cell_type": "markdown", 
            "metadata": {}
        }, 
        {
            "source": "The company also wants to know which area of \u200b\u200bthe city is more problematic or dangerous, this in order to evaluate if it is feasible to invest in the area. The company's goal is to minimize costs and take as few risks as possible.", 
            "cell_type": "markdown", 
            "metadata": {}
        }, 
        {
            "source": "## Data Sets and APIs", 
            "cell_type": "markdown", 
            "metadata": {}
        }, 
        {
            "source": "### 1.  Foursquare API", 
            "cell_type": "markdown", 
            "metadata": {}
        }, 
        {
            "source": "Foursquare is a social location service that allows users to explore the world around them. Users can download the Foursquare application to their iPhone, Blackberry, or Android phone and sign up for free, then connect their Foursquare accounts to their other social media accounts.", 
            "cell_type": "markdown", 
            "metadata": {}
        }, 
        {
            "source": "The Foursquare API allows application developers to interact with the Foursquare platform. The API itself is a RESTful set of addresses to which you can send requests.This project would use Four-square API as its prime data gathering source.\n\nFrom this API we will obtain all the information of the nearby restaurants of each neighborhood to be able to know the type of food of preference of each one. To be able to segment them later.", 
            "cell_type": "markdown", 
            "metadata": {}
        }, 
        {
            "source": "https://developer.foursquare.com/", 
            "cell_type": "markdown", 
            "metadata": {}
        }, 
        {
            "source": "### 2.  Open Baltimore API", 
            "cell_type": "markdown", 
            "metadata": {}
        }, 
        {
            "source": "From this API we get the division of the city by neighborhoods. These polygons will serve to visualize the neighborhoods on the map.\n\nAll incidents or emergency calls that occurred from 2018 to the present will also be obtained, most of the incidents have geographic coordinates from where they occurred. With this information we can determine which area of the city is most problematic or dangerous.", 
            "cell_type": "markdown", 
            "metadata": {}
        }, 
        {
            "source": "https://data.baltimorecity.gov/", 
            "cell_type": "markdown", 
            "metadata": {}
        }, 
        {
            "source": "To make the clusters, the K-mean machine learning algorithm is used, taking as input the most frequented restaurants by his category.", 
            "cell_type": "markdown", 
            "metadata": {}
        }, 
        {
            "source": "## Python packages and Dependencies", 
            "cell_type": "markdown", 
            "metadata": {}
        }, 
        {
            "source": "*  Pandas - Library for Data Analysis \n*  NumPy \u2013 Library to handle data in a vectorized manner\n*  JSON \u2013 Library to handle JSON files \n*  Geopy \u2013 To retrieve Location Data \n*  Requests \u2013 Library to handle http requests\n*  Matplotlib \u2013 Python Plotting Module \n*  Sklearn \u2013 Python machine learning Library \n*  Folium \u2013 Map rendering Library", 
            "cell_type": "markdown", 
            "metadata": {}
        }
    ], 
    "metadata": {
        "kernelspec": {
            "display_name": "Python 3.5", 
            "name": "python3", 
            "language": "python"
        }, 
        "language_info": {
            "mimetype": "text/x-python", 
            "nbconvert_exporter": "python", 
            "version": "3.5.5", 
            "name": "python", 
            "pygments_lexer": "ipython3", 
            "file_extension": ".py", 
            "codemirror_mode": {
                "version": 3, 
                "name": "ipython"
            }
        }
    }, 
    "nbformat": 4
}