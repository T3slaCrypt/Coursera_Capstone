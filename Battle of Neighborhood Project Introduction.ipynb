{
    "nbformat_minor": 1, 
    "cells": [
        {
            "source": "# Battle of Neighborhoods", 
            "cell_type": "markdown", 
            "metadata": {
                "collapsed": true
            }
        }, 
        {
            "source": "## Baltimore Maryland", 
            "cell_type": "markdown", 
            "metadata": {}
        }, 
        {
            "source": "![](https://elboqueronviajero.com/wp-content/uploads/2018/05/00-Vistas-de-Baltimore-una-ciudad-con-mucho-que-ver.jpg)", 
            "cell_type": "markdown", 
            "metadata": {}
        }, 
        {
            "source": "## Project Description", 
            "cell_type": "markdown", 
            "metadata": {}
        }, 
        {
            "source": "A multinational company wants to open several new restaurants in the city of Baltimore, for that they need to do an analysis of the city, see areas that people frequent more and what type of food they like, the goal of the project is to segment the different areas of the city for the type of food they like. And so we can open a new restaurant with the food that is preferred or most in demand in the area.", 
            "cell_type": "markdown", 
            "metadata": {}
        }, 
        {
            "source": "The company also wants to know which area of \u200b\u200bthe city is more problematic or dangerous, this in order to evaluate if it is feasible to invest in the area. The company's goal is to minimize costs and take as few risks as possible.", 
            "cell_type": "markdown", 
            "metadata": {}
        }, 
        {
            "source": "## Data Sets and APIs", 
            "cell_type": "markdown", 
            "metadata": {}
        }, 
        {
            "source": "### 1.  Open Baltimore API", 
            "cell_type": "markdown", 
            "metadata": {}
        }, 
        {
            "source": "From this API we get the division of the city by neighborhoods. These polygons will serve to visualize the neighborhoods on the map.\n\nAll incidents or emergency calls that occurred from 2018 to the present will also be obtained, most of the incidents have geographic coordinates from where they occurred. With this information we can determine which area of the city is most problematic or dangerous.", 
            "cell_type": "markdown", 
            "metadata": {}
        }, 
        {
            "source": "### Incidents", 
            "cell_type": "markdown", 
            "metadata": {}
        }, 
        {
            "source": "![](https://lh3.googleusercontent.com/S7RuxaxP6W0_I27qAwQ3vNcTqkXOk7PcYTQ1m7_PPmhyDEti1aNC0vt1SsYbjOyOQ5gH4wHXQvRplMSk-f7GlWZbHxW_JfTEdNbEMGm7PsdrTfky29r5erRx7edFC2sIvC5SJWSYB4zymv2KVJGBj3n0q624hRqZ9lCCBis8ocd3WxfL-6G6nBSYYS3QfqbA5deiltfvtXOPPX07ZaLvtL8_mIrCsyp8PERI8H9PO0F4PXkdlg6EGBR4sEB6cWmw8JxAD5jknMOFMC7GzjLL5lwrYrgTJmnH3xsXukaII5S3JxdIleyFYqovbjnnIJl-Ai6JvOSzi80B5e5l7D6WI7NncJmcvHLKkBnFIANQW05-_ATNTenMI15EB8bQt5PNqmc355x2dKUIF4At_-rxCIncJd2LP-QmNu3ScaKQS3yUjWDsv7SApRrTF0ocQf7tKNz_dbfHYUQb15R14nAIsU3phVhLvo6fvroD80laRhNO0U2EsG7jQipYNBPfSw6WXOVeFVkhv8UbCOZAdfmX1sZMDv02VAWCaQGF-IkbRkcUprJ3FO8UCmfLldMhjuC3b8A1fnqElHW6uVDI0FS5YP5l-b5aCBVCC7YUdaQU9wvAn0UTKsKORtlBxbl09HkLJK5R7889kNpnhIw63g1dXZHR=w616-h200-no)", 
            "cell_type": "markdown", 
            "metadata": {}
        }, 
        {
            "source": "### Neighborhoods", 
            "cell_type": "markdown", 
            "metadata": {}
        }, 
        {
            "source": "![](https://lh3.googleusercontent.com/MkXX3tYQpC-9M679lu2r7kcEJCByjMduUQ1ttW2iT4g-0gniZinESzDqWN3ALRczDGo5DGQoWtUP2WkjF5949agiaK1dZVRAhVxI7N8EQTBpLrIeuKlfeOi-zqWseJzW-jjfEEi0VYi5sMIx8uX5zvlJ68UVRcNmcaJwbvmaoYaGR9C30k8_les59tHd_UbOQ6aqY_GyAazTl28yjbizK4WjOI8qV2jJXx_rZATygVv-tezN165tyXizf9w3jqhEusoMdQpltrB7faPT2PorKwW3wQoc1VyR3-zXNzXLTaUT7LxPU2nEnO2ngMcVAy0ieGMtvSVB-9cwd00iWzyiujdBszJ4P3nhF6keJQnkJXdhZY5TVH68ZcwhmzQ__7jLJOKjgbpYiox2Q_CEcef8NxoCBYZ-_AD0QNvnAHn7QuSs7u0AB_K705c2Umcn-DdEcPQhSbko4aNgnvWz3-QAzVk4UWz2jT7yOHApM6YMWfmVDtcRcYh67vOipf7hIDqxZ3PFk_Ge-mZTuij7tWssmuWw-nidiMnhlU1gffS45keIWtNsMNN-x5wgHjjVEKEEGdIHLIrhfzmQr4nsctQYOpqBgorxyo9tCW5Qa0UmtF49yRla933axwzBo_fexOOjdfJCDQqBriHUQoYwvKAD4aJw=w427-h197-no)", 
            "cell_type": "markdown", 
            "metadata": {}
        }, 
        {
            "source": "https://data.baltimorecity.gov/browse?category=Neighborhoods", 
            "cell_type": "markdown", 
            "metadata": {}
        }, 
        {
            "source": "### 2.  Foursquare API", 
            "cell_type": "markdown", 
            "metadata": {}
        }, 
        {
            "source": "Foursquare is a social location service that allows users to explore the world around them. Users can download the Foursquare application to their iPhone, Blackberry, or Android phone and sign up for free, then connect their Foursquare accounts to their other social media accounts.", 
            "cell_type": "markdown", 
            "metadata": {}
        }, 
        {
            "source": "The Foursquare API allows application developers to interact with the Foursquare platform. The API itself is a RESTful set of addresses to which you can send requests.This project would use Four-square API as its prime data gathering source.\n\nFrom this API we will obtain all the information of the nearby restaurants of each neighborhood to be able to know the type of food of preference of each one. To be able to segment them later.", 
            "cell_type": "markdown", 
            "metadata": {}
        }, 
        {
            "source": "![](https://lh3.googleusercontent.com/fhkmfbYlr1BCnuZFxBACEE1ek_MqOVYfKhY-EkCJI9w3gqUzYk3zPdwZQ0eXS7bSqCdEc9-NvWIvD2P9wQYevNtMzbzZ8utNpWj2nWyFnmpIla0UeTIrLzx4NGi2arEdHJ686HKMJKXSmPDiZYuu5GDg1NMZqsQWKH-UPZKAybVqhaKUFQ5andkzZBog8HPJzGM8fvu2iCJAlePwNv7ZjZo5oMVU-OTpjZVCcKuy3m9f20nWhZpTF2HWn23n__tA1kpBki6O14DPWSVY0dxCzoEzkdh5TVh7k5wFksjX33sJ9p874JSHkyXinY8_hywu5z4QluCp-ANHRGxuUndbE7MdsRZbCapWhTMsT0B_7RUOyQaa5qVDfEpK6uFjcK5Nkd54SDq77oVixHvojO11oGSoi2gxtkueE4hWpwcaxI7G6ngtpie7Hakso4sYiv3AJmVwY0X35uPmabmtA_zNK-E81ZPvFZQc6j3Wa8qOfd6ii_1wgg3XAGfVg0-GMS1jKJSXb0kNKpFctMkKAjvlsK08TYj-2pTUe-CUpY9UQBSB27WA7_BBo2HF1L6JWsP7pSu9gS9I7SwJcestcUzkGRVIf7gPUYqzmfu4QzcCjG6s-pYwdBrzzlbRVb0DX3Vk_HnPvVD0gTMinkqV46D4t7VI=w808-h353-no)", 
            "cell_type": "markdown", 
            "metadata": {}
        }, 
        {
            "source": "https://developer.foursquare.com/docs/api/venues/details", 
            "cell_type": "markdown", 
            "metadata": {}
        }, 
        {
            "source": "To make the clusters, the K-mean machine learning algorithm is used, taking as input the most frequented restaurants by his category.", 
            "cell_type": "markdown", 
            "metadata": {}
        }, 
        {
            "source": "## Python packages and Dependencies", 
            "cell_type": "markdown", 
            "metadata": {}
        }, 
        {
            "source": "*  Pandas - Library for Data Analysis \n*  NumPy \u2013 Library to handle data in a vectorized manner\n*  JSON \u2013 Library to handle JSON files \n*  Geopy \u2013 To retrieve Location Data \n*  Requests \u2013 Library to handle http requests\n*  Matplotlib \u2013 Python Plotting Module \n*  Sklearn \u2013 Python machine learning Library \n*  Folium \u2013 Map rendering Library", 
            "cell_type": "markdown", 
            "metadata": {}
        }
    ], 
    "metadata": {
        "kernelspec": {
            "display_name": "Python 3.5", 
            "name": "python3", 
            "language": "python"
        }, 
        "language_info": {
            "mimetype": "text/x-python", 
            "nbconvert_exporter": "python", 
            "version": "3.5.5", 
            "name": "python", 
            "pygments_lexer": "ipython3", 
            "file_extension": ".py", 
            "codemirror_mode": {
                "version": 3, 
                "name": "ipython"
            }
        }
    }, 
    "nbformat": 4
}